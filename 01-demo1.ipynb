{
 "cells": [
  {
   "cell_type": "code",
   "execution_count": null,
   "metadata": {},
   "outputs": [],
   "source": [
    "# default_exp ratio"
   ]
  },
  {
   "cell_type": "markdown",
   "metadata": {},
   "source": [
    "> The email portion of this campaign was actually run as an A/B test. Half the emails sent out were generic upsells to your product while the other half contained personalized messaging around the users’ usage of the site.\n",
    "\n",
    "这是 AB Test 的实验内容。"
   ]
  },
  {
   "cell_type": "code",
   "execution_count": 1,
   "metadata": {},
   "outputs": [],
   "source": [
    "import pandas as pd\n",
    "import matplotlib.pyplot as plt\n",
    "import numpy as np"
   ]
  },
  {
   "cell_type": "code",
   "execution_count": 4,
   "metadata": {},
   "outputs": [],
   "source": [
    "# export\n",
    "'''Calculate conversion rates and related metrics.'''\n",
    "\n",
    "import pandas as pd\n",
    "import matplotlib.pyplot as plt\n",
    "import numpy as np\n",
    "\n",
    "def conversion_rate(dataframe, column_names, converted = 'converted', id_name = 'user_id'):\n",
    "    '''Calculate conversion rate.\n",
    "    Cite https://www.datacamp.com/courses/analyzing-marketing-campaigns-with-pandas\n",
    "\n",
    "    Parmaters\n",
    "    ---------\n",
    "    dataframe: pandas.DataFrame\n",
    "    column_names: str\n",
    "        The conlumn(s) chosen to partition groups to \n",
    "        calculate conversion rate.\n",
    "    converted: str\n",
    "        The column with True and False to determine \n",
    "        whether users are converted.        \n",
    "    id_name: str\n",
    "        The column saved user_id.\n",
    "    \n",
    "    \n",
    "    Returns\n",
    "    -------\n",
    "    conversion_rate: conversion rate'''\n",
    "    # Total number of converted users\n",
    "    column_conv = dataframe[dataframe[converted] == True] \\\n",
    "        .groupby(column_names)[id_name] \\\n",
    "        .nunique()\n",
    "\n",
    "    # Total number users\n",
    "    column_total = dataframe \\\n",
    "        .groupby(column_names)[id_name] \\\n",
    "        .nunique() \n",
    "    \n",
    "    # Conversion rate \n",
    "    conversion_rate = column_conv/column_total\n",
    "    \n",
    "    # Fill missing values with 0\n",
    "    conversion_rate = conversion_rate.fillna(0)\n",
    "    \n",
    "    return conversion_rate"
   ]
  },
  {
   "cell_type": "code",
   "execution_count": 5,
   "metadata": {},
   "outputs": [],
   "source": [
    "marketing = pd.read_csv(\"data/marketing.csv\",\n",
    "                        parse_dates = ['date_served', 'date_subscribed', 'date_canceled'])"
   ]
  },
  {
   "cell_type": "code",
   "execution_count": 6,
   "metadata": {},
   "outputs": [
    {
     "data": {
      "image/png": "[encoded data removed]",
      "text/plain": [
       "<Figure size 432x288 with 1 Axes>"
      ]
     },
     "metadata": {
      "needs_background": "light"
     },
     "output_type": "display_data"
    }
   ],
   "source": [
    "# Subset the DataFrame\n",
    "email = marketing[marketing.marketing_channel == 'Email']\n",
    "\n",
    "# Group the email DataFrame by variant \n",
    "alloc = email.groupby(['variant']).user_id.nunique()\n",
    "\n",
    "# Plot a bar chart of the test allocation\n",
    "alloc.plot(kind = 'bar')\n",
    "plt.title('Personalization test allocation')\n",
    "plt.ylabel('# participants')\n",
    "plt.show()"
   ]
  },
  {
   "cell_type": "markdown",
   "metadata": {},
   "source": [
    "差异不大。"
   ]
  },
  {
   "cell_type": "code",
   "execution_count": 7,
   "metadata": {},
   "outputs": [
    {
     "name": "stdout",
     "output_type": "stream",
     "text": [
      "Control conversion rate: 0.2814814814814815\n",
      "Personalization conversion rate: 0.3908450704225352\n"
     ]
    }
   ],
   "source": [
    "# Group marketing by user_id and variant\n",
    "subscribers = email.groupby(['user_id', \n",
    "                             'variant'])['converted'].max()\n",
    "subscribers_df = pd.DataFrame(subscribers.unstack(level=1)) \n",
    "\n",
    "# Drop missing values from the control column\n",
    "control = subscribers_df['control'].dropna()\n",
    "\n",
    "# Drop missing values from the personalization column\n",
    "personalization = subscribers_df['personalization'].dropna()\n",
    "\n",
    "print('Control conversion rate:', np.mean(control))\n",
    "print('Personalization conversion rate:', np.mean(personalization))"
   ]
  },
  {
   "cell_type": "markdown",
   "metadata": {},
   "source": [
    "这种 Python 写法我觉得有点复杂。"
   ]
  },
  {
   "cell_type": "markdown",
   "metadata": {},
   "source": [
    "$$\\begin{array}{l}{\\text { Calculating lift: }} \\\\ {\\qquad \\frac{\\text { Treatment conversion rate - Control conversion rate }}{\\text { Control conversion rate }}}\\end{array}$$"
   ]
  },
  {
   "cell_type": "markdown",
   "metadata": {},
   "source": [
    "注意这里的 lift 是转化率的比较，因此是可以超过 100 %"
   ]
  },
  {
   "cell_type": "code",
   "execution_count": 10,
   "metadata": {},
   "outputs": [],
   "source": [
    "# export\n",
    "def lift(a,b, sig = 2):\n",
    "    '''Calculate lift statistic for an AB test.\n",
    "    Cite https://www.datacamp.com/courses/analyzing-marketing-campaigns-with-pandas\n",
    "\n",
    "    Parmaters\n",
    "    ---------\n",
    "    a: float.\n",
    "        control group.\n",
    "    b: float.\n",
    "        test group.\n",
    "    sig: integer.\n",
    "        default 2.\n",
    "\n",
    "    Returns\n",
    "    -------\n",
    "    lift: lift statistic'''\n",
    "    # Calcuate the mean of a and b\n",
    "    a_mean = np.mean(a)\n",
    "    b_mean = np.mean(b)\n",
    "\n",
    "    # Calculate the lift using a_mean and b_mean\n",
    "    lift = b_mean/a_mean - 1\n",
    "\n",
    "    return str(round(lift*100, sig)) + '%'"
   ]
  },
  {
   "cell_type": "code",
   "execution_count": 13,
   "metadata": {},
   "outputs": [
    {
     "data": {
      "text/plain": [
       "'38.853%'"
      ]
     },
     "execution_count": 13,
     "metadata": {},
     "output_type": "execute_result"
    }
   ],
   "source": [
    "lift(control, personalization, sig = 3)"
   ]
  },
  {
   "cell_type": "markdown",
   "metadata": {},
   "source": [
    "## 查看是否统计显著"
   ]
  },
  {
   "cell_type": "code",
   "execution_count": 40,
   "metadata": {},
   "outputs": [],
   "source": [
    "# export\n",
    "from scipy import stats\n",
    "\n",
    "def lift_sig(a,b):\n",
    "    '''Calculate lift statistical significance for an AB test.\n",
    "    Cite https://www.datacamp.com/courses/analyzing-marketing-campaigns-with-pandas\n",
    "\n",
    "    Parmaters\n",
    "    ---------\n",
    "    a: float.\n",
    "        control group.\n",
    "    b: float.\n",
    "        test group.\n",
    "    sig: integer.\n",
    "        default 2.\n",
    "\n",
    "    Returns\n",
    "    -------\n",
    "    lift: lift statistic'''\n",
    "\n",
    "    output = stats.ttest_ind(a,b)\n",
    "    t_value, p_value = output.statistic,output.pvalue\n",
    "    print('The t value of  the two variables is %.3f  with p value %.3f' % (t_value, p_value))\n",
    "\n",
    "    return (t_value, p_value)"
   ]
  },
  {
   "cell_type": "code",
   "execution_count": 41,
   "metadata": {},
   "outputs": [
    {
     "name": "stdout",
     "output_type": "stream",
     "text": [
      "The t value of  the two variables is -0.577  with p value 0.580\n"
     ]
    }
   ],
   "source": [
    "t_value, p_value = lift_sig(control,personalization )"
   ]
  },
  {
   "cell_type": "markdown",
   "metadata": {},
   "source": [
    "> In the next lesson, you will explore whether that holds up across all demographics.\n",
    "\n",
    "这真是做 AB test 一个成熟的思维，不代表每一个 group 都很好。\n"
   ]
  },
  {
   "cell_type": "code",
   "execution_count": 53,
   "metadata": {},
   "outputs": [],
   "source": [
    "# export\n",
    "def ab_test(df, segment, id_name = 'user_id', test_column = 'variant', converted = 'converted'):\n",
    "    '''Calculate lift statistic by segmentation.\n",
    "    Cite https://www.datacamp.com/courses/analyzing-marketing-campaigns-with-pandas\n",
    "\n",
    "    Parmaters\n",
    "    ---------\n",
    "    df: pandas.DataFrame.\n",
    "\n",
    "    segment: str.\n",
    "        group column.\n",
    "    \n",
    "    id_name: user_id\n",
    "    \n",
    "    test_column: str\n",
    "        The column indentify test or ctrl groups.\n",
    "        \n",
    "    converted: logical.\n",
    "        Whether converted or not.\n",
    "\n",
    "    Returns\n",
    "    -------\n",
    "    lift: lift statistic'''\n",
    "    # Build a for loop for each segment in marketing\n",
    "    for subsegment in np.unique(marketing[segment].values):\n",
    "        print('Group - %s: ' % subsegment)\n",
    "\n",
    "        df1 = df[df[segment] == subsegment]\n",
    "\n",
    "        df2 = df1.groupby([id_name, test_column])[converted].max()\n",
    "        df2 = pd.DataFrame(df2.unstack(level=1)) \n",
    "        ctrl = df2.iloc[:,0].dropna()\n",
    "        test = df2.iloc[:,1].dropna()\n",
    "        \n",
    "        # information\n",
    "        print('lift:', lift(ctrl, test))\n",
    "        lift_sig(ctrl, test)"
   ]
  },
  {
   "cell_type": "code",
   "execution_count": 54,
   "metadata": {},
   "outputs": [
    {
     "name": "stdout",
     "output_type": "stream",
     "text": [
      "Group - Arabic: \n",
      "lift: 50.0%\n",
      "The t value of  the two variables is -0.577  with p value 0.580\n",
      "Group - English: \n",
      "lift: 39.0%\n",
      "The t value of  the two variables is -2.218  with p value 0.027\n",
      "Group - German: \n",
      "lift: -1.62%\n",
      "The t value of  the two variables is 0.191  with p value 0.849\n",
      "Group - Spanish: \n",
      "lift: 166.67%\n",
      "The t value of  the two variables is -2.357  with p value 0.040\n"
     ]
    }
   ],
   "source": [
    "df = marketing[marketing['marketing_channel'] == 'Email']\n",
    "ab_test(df, segment='language_displayed', id_name='user_id', test_column='variant', converted='converted')"
   ]
  },
  {
   "cell_type": "code",
   "execution_count": 52,
   "metadata": {},
   "outputs": [
    {
     "data": {
      "text/html": [
       "<div>\n",
       "<style scoped>\n",
       "    .dataframe tbody tr th:only-of-type {\n",
       "        vertical-align: middle;\n",
       "    }\n",
       "\n",
       "    .dataframe tbody tr th {\n",
       "        vertical-align: top;\n",
       "    }\n",
       "\n",
       "    .dataframe thead th {\n",
       "        text-align: right;\n",
       "    }\n",
       "</style>\n",
       "<table border=\"1\" class=\"dataframe\">\n",
       "  <thead>\n",
       "    <tr style=\"text-align: right;\">\n",
       "      <th></th>\n",
       "      <th>user_id</th>\n",
       "      <th>date_served</th>\n",
       "      <th>marketing_channel</th>\n",
       "      <th>variant</th>\n",
       "      <th>converted</th>\n",
       "      <th>language_displayed</th>\n",
       "      <th>language_preferred</th>\n",
       "      <th>age_group</th>\n",
       "      <th>date_subscribed</th>\n",
       "      <th>date_canceled</th>\n",
       "      <th>subscribing_channel</th>\n",
       "      <th>is_retained</th>\n",
       "    </tr>\n",
       "  </thead>\n",
       "  <tbody>\n",
       "    <tr>\n",
       "      <th>354</th>\n",
       "      <td>a100000526</td>\n",
       "      <td>2018-01-01</td>\n",
       "      <td>Email</td>\n",
       "      <td>personalization</td>\n",
       "      <td>True</td>\n",
       "      <td>Arabic</td>\n",
       "      <td>Arabic</td>\n",
       "      <td>0-18 years</td>\n",
       "      <td>2018-01-01</td>\n",
       "      <td>NaT</td>\n",
       "      <td>Email</td>\n",
       "      <td>True</td>\n",
       "    </tr>\n",
       "    <tr>\n",
       "      <th>358</th>\n",
       "      <td>a100000530</td>\n",
       "      <td>2018-01-05</td>\n",
       "      <td>Email</td>\n",
       "      <td>personalization</td>\n",
       "      <td>True</td>\n",
       "      <td>Arabic</td>\n",
       "      <td>Arabic</td>\n",
       "      <td>19-24 years</td>\n",
       "      <td>2018-01-05</td>\n",
       "      <td>NaT</td>\n",
       "      <td>Email</td>\n",
       "      <td>True</td>\n",
       "    </tr>\n",
       "    <tr>\n",
       "      <th>362</th>\n",
       "      <td>a100000534</td>\n",
       "      <td>2018-01-09</td>\n",
       "      <td>Email</td>\n",
       "      <td>personalization</td>\n",
       "      <td>False</td>\n",
       "      <td>English</td>\n",
       "      <td>English</td>\n",
       "      <td>45-55 years</td>\n",
       "      <td>2018-01-09</td>\n",
       "      <td>NaT</td>\n",
       "      <td>Email</td>\n",
       "      <td>True</td>\n",
       "    </tr>\n",
       "    <tr>\n",
       "      <th>366</th>\n",
       "      <td>a100000538</td>\n",
       "      <td>2018-01-13</td>\n",
       "      <td>Email</td>\n",
       "      <td>personalization</td>\n",
       "      <td>True</td>\n",
       "      <td>Arabic</td>\n",
       "      <td>Arabic</td>\n",
       "      <td>24-30 years</td>\n",
       "      <td>2018-01-13</td>\n",
       "      <td>2018-01-23</td>\n",
       "      <td>Email</td>\n",
       "      <td>False</td>\n",
       "    </tr>\n",
       "    <tr>\n",
       "      <th>370</th>\n",
       "      <td>a100000542</td>\n",
       "      <td>2018-01-17</td>\n",
       "      <td>Email</td>\n",
       "      <td>personalization</td>\n",
       "      <td>True</td>\n",
       "      <td>English</td>\n",
       "      <td>English</td>\n",
       "      <td>0-18 years</td>\n",
       "      <td>2018-01-17</td>\n",
       "      <td>2018-02-12</td>\n",
       "      <td>Email</td>\n",
       "      <td>False</td>\n",
       "    </tr>\n",
       "  </tbody>\n",
       "</table>\n",
       "</div>"
      ],
      "text/plain": [
       "        user_id date_served marketing_channel          variant converted  \\\n",
       "354  a100000526  2018-01-01             Email  personalization      True   \n",
       "358  a100000530  2018-01-05             Email  personalization      True   \n",
       "362  a100000534  2018-01-09             Email  personalization     False   \n",
       "366  a100000538  2018-01-13             Email  personalization      True   \n",
       "370  a100000542  2018-01-17             Email  personalization      True   \n",
       "\n",
       "    language_displayed language_preferred    age_group date_subscribed  \\\n",
       "354             Arabic             Arabic   0-18 years      2018-01-01   \n",
       "358             Arabic             Arabic  19-24 years      2018-01-05   \n",
       "362            English            English  45-55 years      2018-01-09   \n",
       "366             Arabic             Arabic  24-30 years      2018-01-13   \n",
       "370            English            English   0-18 years      2018-01-17   \n",
       "\n",
       "    date_canceled subscribing_channel is_retained  \n",
       "354           NaT               Email        True  \n",
       "358           NaT               Email        True  \n",
       "362           NaT               Email        True  \n",
       "366    2018-01-23               Email       False  \n",
       "370    2018-02-12               Email       False  "
      ]
     },
     "execution_count": 52,
     "metadata": {},
     "output_type": "execute_result"
    }
   ],
   "source": [
    "df.head()"
   ]
  },
  {
   "cell_type": "markdown",
   "metadata": {},
   "source": [
    "> Often treatment will not affect all people uniformly. Some people will love a particular marketing campaign while others hate it. As a marketing data scientist, it's your responsibility to enable your marketing stakeholders to target users according to their preferences."
   ]
  }
 ],
 "metadata": {
  "kernelspec": {
   "display_name": "Python 3",
   "language": "python",
   "name": "python3"
  },
  "language_info": {
   "codemirror_mode": {
    "name": "ipython",
    "version": 3
   },
   "file_extension": ".py",
   "mimetype": "text/x-python",
   "name": "python",
   "nbconvert_exporter": "python",
   "pygments_lexer": "ipython3",
   "version": "3.7.3"
  }
 },
 "nbformat": 4,
 "nbformat_minor": 2
}
